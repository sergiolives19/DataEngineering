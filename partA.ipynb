{
 "cells": [
  {
   "cell_type": "code",
   "execution_count": 1,
   "id": "48ffa030",
   "metadata": {},
   "outputs": [
    {
     "name": "stderr",
     "output_type": "stream",
     "text": [
      "WARNING: An illegal reflective access operation has occurred\n",
      "WARNING: Illegal reflective access by org.apache.spark.unsafe.Platform (file:/home/ubuntu/.local/lib/python3.10/site-packages/pyspark/jars/spark-unsafe_2.12-3.2.3.jar) to constructor java.nio.DirectByteBuffer(long,int)\n",
      "WARNING: Please consider reporting this to the maintainers of org.apache.spark.unsafe.Platform\n",
      "WARNING: Use --illegal-access=warn to enable warnings of further illegal reflective access operations\n",
      "WARNING: All illegal access operations will be denied in a future release\n",
      "Using Spark's default log4j profile: org/apache/spark/log4j-defaults.properties\n",
      "Setting default log level to \"WARN\".\n",
      "To adjust logging level use sc.setLogLevel(newLevel). For SparkR, use setLogLevel(newLevel).\n",
      "23/02/25 10:37:55 WARN NativeCodeLoader: Unable to load native-hadoop library for your platform... using builtin-java classes where applicable\n",
      "23/02/25 10:37:57 WARN Utils: Service 'SparkUI' could not bind on port 4040. Attempting port 4041.\n"
     ]
    }
   ],
   "source": [
    "from pyspark.sql import SparkSession \n",
    "\n",
    "spark_session = SparkSession.builder.master(\"spark://192.168.2.122:7077\")\\\n",
    "        .appName(\"sergi_olives_juan-a3-part_a\")\\\n",
    "        .config(\"spark.dynamicAllocation.enabled\", True)\\\n",
    "        .config(\"spark.dynamicAllocation.shuffleTracking.enabled\", True)\\\n",
    "        .config(\"spark.shuffle.service.enabled\", True)\\\n",
    "        .config(\"spark.dynamicAllocation.executorIdleTimeout\", \"30s\")\\\n",
    "        .config(\"spark.cores.max\", 2)\\\n",
    "        .getOrCreate()\n",
    "\n",
    "spark_context = spark_session.sparkContext\n",
    "spark_context.setLogLevel(\"ERROR\")"
   ]
  },
  {
   "cell_type": "code",
   "execution_count": 2,
   "id": "5f30f186",
   "metadata": {},
   "outputs": [
    {
     "name": "stderr",
     "output_type": "stream",
     "text": [
      "[Stage 0:>                                                          (0 + 2) / 2]\r"
     ]
    },
    {
     "name": "stdout",
     "output_type": "stream",
     "text": [
      "166666616666670000000\n"
     ]
    },
    {
     "name": "stderr",
     "output_type": "stream",
     "text": [
      "\r",
      "                                                                                \r"
     ]
    }
   ],
   "source": [
    "def add(a, b):\n",
    "    # associative and commutative!\n",
    "    return a + b\n",
    "\n",
    "rdd = spark_session.sparkContext.parallelize(range(10**7))\n",
    "\n",
    "result = rdd.filter(lambda x: x % 2 == 0)\\\n",
    "            .map(lambda x: x ** 2)\\\n",
    "            .reduce(add)\n",
    "\n",
    "print(result)"
   ]
  },
  {
   "cell_type": "markdown",
   "id": "53f337ae",
   "metadata": {},
   "source": [
    "# Part A - Working with the RDD API"
   ]
  },
  {
   "cell_type": "markdown",
   "id": "bd3c5e6d",
   "metadata": {},
   "source": [
    "## Question A.1"
   ]
  },
  {
   "cell_type": "markdown",
   "id": "f9c0def2",
   "metadata": {},
   "source": [
    "### A.1.1"
   ]
  },
  {
   "cell_type": "code",
   "execution_count": 3,
   "id": "3ddd4844",
   "metadata": {
    "scrolled": true
   },
   "outputs": [
    {
     "name": "stderr",
     "output_type": "stream",
     "text": [
      "\r",
      "[Stage 1:>                                                          (0 + 2) / 2]\r"
     ]
    },
    {
     "name": "stdout",
     "output_type": "stream",
     "text": [
      "English transcripts lines count: 1862234\n"
     ]
    },
    {
     "name": "stderr",
     "output_type": "stream",
     "text": [
      "\r",
      "                                                                                \r"
     ]
    }
   ],
   "source": [
    "en_lines = spark_context.textFile('hdfs://192.168.2.122:9000/europarl/europarl-v7.sv-en.en')\n",
    "print(f'English transcripts lines count: {en_lines.count()}')"
   ]
  },
  {
   "cell_type": "markdown",
   "id": "07aee21c",
   "metadata": {},
   "source": [
    "### A.1.2"
   ]
  },
  {
   "cell_type": "code",
   "execution_count": 4,
   "id": "23ca8105",
   "metadata": {},
   "outputs": [
    {
     "name": "stderr",
     "output_type": "stream",
     "text": [
      "\r",
      "[Stage 2:>                                                          (0 + 2) / 3]\r"
     ]
    },
    {
     "name": "stdout",
     "output_type": "stream",
     "text": [
      "Swedish transcripts lines count: 1862234\n"
     ]
    },
    {
     "name": "stderr",
     "output_type": "stream",
     "text": [
      "\r",
      "[Stage 2:=======================================>                   (2 + 1) / 3]\r",
      "\r",
      "                                                                                \r"
     ]
    }
   ],
   "source": [
    "sv_lines = spark_context.textFile('hdfs://192.168.2.122:9000/europarl/europarl-v7.sv-en.sv')\n",
    "print(f'Swedish transcripts lines count: {sv_lines.count()}')"
   ]
  },
  {
   "cell_type": "markdown",
   "id": "aaa45a9b",
   "metadata": {},
   "source": [
    "### A.1.3"
   ]
  },
  {
   "cell_type": "code",
   "execution_count": 5,
   "id": "f271f9ea",
   "metadata": {},
   "outputs": [
    {
     "name": "stderr",
     "output_type": "stream",
     "text": [
      "                                                                                \r"
     ]
    }
   ],
   "source": [
    "assert en_lines.count() == sv_lines.count(), \"Lines count should be equal\""
   ]
  },
  {
   "cell_type": "markdown",
   "id": "cd0521a3",
   "metadata": {},
   "source": [
    "### A.1.4"
   ]
  },
  {
   "cell_type": "code",
   "execution_count": 6,
   "id": "809c5daa",
   "metadata": {},
   "outputs": [
    {
     "name": "stdout",
     "output_type": "stream",
     "text": [
      "Number of partitions in English transcripts: 2\n",
      "Number of partitions in Swedish transcripts: 3\n"
     ]
    }
   ],
   "source": [
    "print(f'Number of partitions in English transcripts: {en_lines.getNumPartitions()}')\n",
    "print(f'Number of partitions in Swedish transcripts: {sv_lines.getNumPartitions()}')"
   ]
  },
  {
   "cell_type": "markdown",
   "id": "b9317575",
   "metadata": {},
   "source": [
    "## Question A.2"
   ]
  },
  {
   "cell_type": "markdown",
   "id": "a3b9abdf",
   "metadata": {},
   "source": [
    "### A.2.1"
   ]
  },
  {
   "cell_type": "code",
   "execution_count": 7,
   "id": "8321e243",
   "metadata": {},
   "outputs": [],
   "source": [
    "def text_preprocessing(rdd):\n",
    "    text = rdd.map(lambda x: x.lower())\n",
    "    text = text.map(lambda x: x.split(' '))\n",
    "    return text\n",
    "\n",
    "processed_en_text = text_preprocessing(en_lines)\n",
    "processed_sv_text = text_preprocessing(sv_lines)"
   ]
  },
  {
   "cell_type": "markdown",
   "id": "7df00624",
   "metadata": {},
   "source": [
    "### A.2.2"
   ]
  },
  {
   "cell_type": "code",
   "execution_count": 8,
   "id": "87c5581d",
   "metadata": {},
   "outputs": [
    {
     "name": "stderr",
     "output_type": "stream",
     "text": [
      "\r",
      "[Stage 5:>                                                          (0 + 1) / 1]\r"
     ]
    },
    {
     "name": "stdout",
     "output_type": "stream",
     "text": [
      "10 first entries English text: [['resumption', 'of', 'the', 'session'], ['i', 'declare', 'resumed', 'the', 'session', 'of', 'the', 'european', 'parliament', 'adjourned', 'on', 'friday', '17', 'december', '1999,', 'and', 'i', 'would', 'like', 'once', 'again', 'to', 'wish', 'you', 'a', 'happy', 'new', 'year', 'in', 'the', 'hope', 'that', 'you', 'enjoyed', 'a', 'pleasant', 'festive', 'period.'], ['although,', 'as', 'you', 'will', 'have', 'seen,', 'the', 'dreaded', \"'millennium\", \"bug'\", 'failed', 'to', 'materialise,', 'still', 'the', 'people', 'in', 'a', 'number', 'of', 'countries', 'suffered', 'a', 'series', 'of', 'natural', 'disasters', 'that', 'truly', 'were', 'dreadful.'], ['you', 'have', 'requested', 'a', 'debate', 'on', 'this', 'subject', 'in', 'the', 'course', 'of', 'the', 'next', 'few', 'days,', 'during', 'this', 'part-session.'], ['in', 'the', 'meantime,', 'i', 'should', 'like', 'to', 'observe', 'a', \"minute'\", 's', 'silence,', 'as', 'a', 'number', 'of', 'members', 'have', 'requested,', 'on', 'behalf', 'of', 'all', 'the', 'victims', 'concerned,', 'particularly', 'those', 'of', 'the', 'terrible', 'storms,', 'in', 'the', 'various', 'countries', 'of', 'the', 'european', 'union.'], ['please', 'rise,', 'then,', 'for', 'this', \"minute'\", 's', 'silence.'], ['(the', 'house', 'rose', 'and', 'observed', 'a', \"minute'\", 's', 'silence)'], ['madam', 'president,', 'on', 'a', 'point', 'of', 'order.'], ['you', 'will', 'be', 'aware', 'from', 'the', 'press', 'and', 'television', 'that', 'there', 'have', 'been', 'a', 'number', 'of', 'bomb', 'explosions', 'and', 'killings', 'in', 'sri', 'lanka.'], ['one', 'of', 'the', 'people', 'assassinated', 'very', 'recently', 'in', 'sri', 'lanka', 'was', 'mr', 'kumar', 'ponnambalam,', 'who', 'had', 'visited', 'the', 'european', 'parliament', 'just', 'a', 'few', 'months', 'ago.']]\n"
     ]
    },
    {
     "name": "stderr",
     "output_type": "stream",
     "text": [
      "\r",
      "                                                                                \r"
     ]
    }
   ],
   "source": [
    "print(f'10 first entries English text: {processed_en_text.take(10)}')"
   ]
  },
  {
   "cell_type": "code",
   "execution_count": 9,
   "id": "621fe07c",
   "metadata": {},
   "outputs": [
    {
     "name": "stderr",
     "output_type": "stream",
     "text": [
      "\r",
      "[Stage 6:>                                                          (0 + 1) / 1]\r"
     ]
    },
    {
     "name": "stdout",
     "output_type": "stream",
     "text": [
      "10 first entries Swedish text: [['återupptagande', 'av', 'sessionen'], ['jag', 'förklarar', 'europaparlamentets', 'session', 'återupptagen', 'efter', 'avbrottet', 'den', '17', 'december.', 'jag', 'vill', 'på', 'nytt', 'önska', 'er', 'ett', 'gott', 'nytt', 'år', 'och', 'jag', 'hoppas', 'att', 'ni', 'haft', 'en', 'trevlig', 'semester.'], ['som', 'ni', 'kunnat', 'konstatera', 'ägde', '\"den', 'stora', 'år', '2000-buggen\"', 'aldrig', 'rum.', 'däremot', 'har', 'invånarna', 'i', 'ett', 'antal', 'av', 'våra', 'medlemsländer', 'drabbats', 'av', 'naturkatastrofer', 'som', 'verkligen', 'varit', 'förskräckliga.'], ['ni', 'har', 'begärt', 'en', 'debatt', 'i', 'ämnet', 'under', 'sammanträdesperiodens', 'kommande', 'dagar.'], ['till', 'dess', 'vill', 'jag', 'att', 'vi,', 'som', 'ett', 'antal', 'kolleger', 'begärt,', 'håller', 'en', 'tyst', 'minut', 'för', 'offren', 'för', 'bl.a.', 'stormarna', 'i', 'de', 'länder', 'i', 'europeiska', 'unionen', 'som', 'drabbats.'], ['jag', 'ber', 'er', 'resa', 'er', 'för', 'en', 'tyst', 'minut.'], ['(parlamentet', 'höll', 'en', 'tyst', 'minut.)'], ['fru', 'talman!', 'det', 'gäller', 'en', 'ordningsfråga.'], ['ni', 'känner', 'till', 'från', 'media', 'att', 'det', 'skett', 'en', 'rad', 'bombexplosioner', 'och', 'mord', 'i', 'sri', 'lanka.'], ['en', 'av', 'de', 'personer', 'som', 'mycket', 'nyligen', 'mördades', 'i', 'sri', 'lanka', 'var', 'kumar', 'ponnambalam,', 'som', 'besökte', 'europaparlamentet', 'för', 'bara', 'några', 'månader', 'sedan.']]\n"
     ]
    },
    {
     "name": "stderr",
     "output_type": "stream",
     "text": [
      "\r",
      "                                                                                \r"
     ]
    }
   ],
   "source": [
    "print(f'10 first entries Swedish text: {processed_sv_text.take(10)}')"
   ]
  },
  {
   "cell_type": "markdown",
   "id": "04134c2b",
   "metadata": {},
   "source": [
    "### A.2.3"
   ]
  },
  {
   "cell_type": "code",
   "execution_count": 10,
   "id": "03edac3c",
   "metadata": {},
   "outputs": [
    {
     "name": "stderr",
     "output_type": "stream",
     "text": [
      "                                                                                \r"
     ]
    }
   ],
   "source": [
    "assert processed_en_text.count() == processed_sv_text.count(), \"Lines count should be equal\""
   ]
  },
  {
   "cell_type": "markdown",
   "id": "24a7fdd1",
   "metadata": {},
   "source": [
    "## Question A.3"
   ]
  },
  {
   "cell_type": "markdown",
   "id": "a8bf0b4d",
   "metadata": {},
   "source": [
    "### A.3.1"
   ]
  },
  {
   "cell_type": "code",
   "execution_count": 11,
   "id": "ab3508b4",
   "metadata": {},
   "outputs": [],
   "source": [
    "def top_frequent_words(rdd, num_words=10):\n",
    "    result = rdd.flatMap(lambda x: [(word, 1) for word in x]) # map\n",
    "    result = result.reduceByKey(lambda x, y: x + y) # reduce\n",
    "    result = result.takeOrdered(num_words, key=lambda x: -x[1])\n",
    "    return result"
   ]
  },
  {
   "cell_type": "code",
   "execution_count": 12,
   "id": "35ca4b70",
   "metadata": {},
   "outputs": [
    {
     "name": "stderr",
     "output_type": "stream",
     "text": [
      "[Stage 9:=============================>                             (1 + 1) / 2]\r"
     ]
    },
    {
     "name": "stdout",
     "output_type": "stream",
     "text": [
      "Top 10 frequent words for English transcripts : [('the', 3498375), ('of', 1659758), ('to', 1539760), ('and', 1288401), ('in', 1085993), ('that', 797516), ('a', 773522), ('is', 758050), ('for', 534242), ('we', 522849)]\n"
     ]
    },
    {
     "name": "stderr",
     "output_type": "stream",
     "text": [
      "\r",
      "                                                                                \r"
     ]
    }
   ],
   "source": [
    "print(f'Top 10 frequent words for English transcripts : {top_frequent_words(processed_en_text)}')"
   ]
  },
  {
   "cell_type": "code",
   "execution_count": 13,
   "id": "f501bc62",
   "metadata": {},
   "outputs": [
    {
     "name": "stderr",
     "output_type": "stream",
     "text": [
      "[Stage 11:======================================>                   (2 + 1) / 3]\r"
     ]
    },
    {
     "name": "stdout",
     "output_type": "stream",
     "text": [
      "Top 10 frequent words for Swedish transcripts : [('att', 1706293), ('och', 1344830), ('i', 1050774), ('det', 924866), ('som', 913276), ('för', 908680), ('av', 738068), ('är', 694381), ('en', 620310), ('vi', 539797)]\n"
     ]
    },
    {
     "name": "stderr",
     "output_type": "stream",
     "text": [
      "\r",
      "                                                                                \r"
     ]
    }
   ],
   "source": [
    "print(f'Top 10 frequent words for Swedish transcripts : {top_frequent_words(processed_sv_text)}')"
   ]
  },
  {
   "cell_type": "markdown",
   "id": "861ba569",
   "metadata": {},
   "source": [
    "There is an overlap between the most frequent English and Swedish words. The word counts are in descending order. Among the most frequent words there are very common articles, propositions and conjunctions. The results seem reliable."
   ]
  },
  {
   "cell_type": "markdown",
   "id": "cf9cd96c",
   "metadata": {},
   "source": [
    "## Question A.4"
   ]
  },
  {
   "cell_type": "markdown",
   "id": "39e78775",
   "metadata": {},
   "source": [
    "## A.4.1"
   ]
  },
  {
   "cell_type": "code",
   "execution_count": 14,
   "id": "5ebf72a1",
   "metadata": {},
   "outputs": [
    {
     "name": "stderr",
     "output_type": "stream",
     "text": [
      "                                                                                \r"
     ]
    }
   ],
   "source": [
    "en_1 = processed_en_text.zipWithIndex()\n",
    "sv_1 = processed_sv_text.zipWithIndex()"
   ]
  },
  {
   "cell_type": "code",
   "execution_count": 15,
   "id": "a4fe0a95",
   "metadata": {},
   "outputs": [],
   "source": [
    "en_2 = en_1.map(lambda x: (x[1],x[0]))\n",
    "sv_2 = sv_1.map(lambda x: (x[1],x[0]))"
   ]
  },
  {
   "cell_type": "code",
   "execution_count": 16,
   "id": "4e009fbe",
   "metadata": {},
   "outputs": [],
   "source": [
    "join_3 = en_2.join(sv_2)"
   ]
  },
  {
   "cell_type": "code",
   "execution_count": 17,
   "id": "1aec4e36",
   "metadata": {},
   "outputs": [],
   "source": [
    "filter_4 = join_3.filter(lambda x: len(x[1][0]) > 0 and len(x[1][1]) > 0)"
   ]
  },
  {
   "cell_type": "code",
   "execution_count": 18,
   "id": "df4a6824",
   "metadata": {},
   "outputs": [],
   "source": [
    "filter_5 = filter_4.filter(lambda x: len(x[1][0]) <=5 or len(x[1][1]) <=5)"
   ]
  },
  {
   "cell_type": "code",
   "execution_count": 19,
   "id": "25af146d",
   "metadata": {},
   "outputs": [],
   "source": [
    "filter_6 = filter_5.filter(lambda x: len(x[1][0]) == len(x[1][1]))"
   ]
  },
  {
   "cell_type": "code",
   "execution_count": 20,
   "id": "be2deaf4",
   "metadata": {},
   "outputs": [],
   "source": [
    "map_7 = filter_6.flatMap(lambda x: zip(x[1][0], x[1][1]))\n",
    "map_7 = map_7.map(lambda x: (x, 1))"
   ]
  },
  {
   "cell_type": "code",
   "execution_count": 21,
   "id": "674552c8",
   "metadata": {},
   "outputs": [],
   "source": [
    "reduce_8 = map_7.reduceByKey(lambda x, y: x + y)"
   ]
  },
  {
   "cell_type": "code",
   "execution_count": 22,
   "id": "ef635f77",
   "metadata": {
    "scrolled": true
   },
   "outputs": [
    {
     "name": "stderr",
     "output_type": "stream",
     "text": [
      "                                                                                \r"
     ]
    },
    {
     "data": {
      "text/plain": [
       "[(('is', 'är'), 4699),\n",
       " (('closed.', 'avslutad.'), 2951),\n",
       " (('(applause)', '(applåder)'), 2546),\n",
       " (('', '.'), 2223),\n",
       " (('.', '.'), 2084),\n",
       " (('that', 'det'), 1494),\n",
       " (('we', 'vi'), 1443),\n",
       " (('the', 'jag'), 1336),\n",
       " (('is', 'debatten'), 1327),\n",
       " (('debate', 'förklarar'), 1319),\n",
       " (('\\xa0\\xa0', '\\xa0\\xa0'), 1287),\n",
       " (('the', 'debatten'), 1253),\n",
       " (('is', 'härmed'), 1240),\n",
       " (('debate', 'är'), 1211),\n",
       " (('i', 'jag'), 1168)]"
      ]
     },
     "execution_count": 22,
     "metadata": {},
     "output_type": "execute_result"
    }
   ],
   "source": [
    "reduce_8.takeOrdered(15, key=lambda x: -x[1])"
   ]
  },
  {
   "cell_type": "markdown",
   "id": "27acc329",
   "metadata": {},
   "source": [
    "Some tranlations are correct, although, the assumption that words stay in the same order when translated, makes the translations unreliable."
   ]
  },
  {
   "cell_type": "code",
   "execution_count": 23,
   "id": "442f7acb",
   "metadata": {},
   "outputs": [],
   "source": [
    "spark_session.stop()"
   ]
  }
 ],
 "metadata": {
  "kernelspec": {
   "display_name": "Python 3 (ipykernel)",
   "language": "python",
   "name": "python3"
  },
  "language_info": {
   "codemirror_mode": {
    "name": "ipython",
    "version": 3
   },
   "file_extension": ".py",
   "mimetype": "text/x-python",
   "name": "python",
   "nbconvert_exporter": "python",
   "pygments_lexer": "ipython3",
   "version": "3.10.6"
  }
 },
 "nbformat": 4,
 "nbformat_minor": 5
}
